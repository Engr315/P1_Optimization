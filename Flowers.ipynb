{
 "cells": [
  {
   "cell_type": "markdown",
   "metadata": {},
   "source": [
    "# Assignment 1 - Flower Drawing Optimization\n",
    "\n",
    "Who doesn't love flowers? In this assignment we will plot many beautiful flowers using my very special custom algorithm. It is blazingly fast, and chock-a-block full of state of the art optimizations!"
   ]
  },
  {
   "cell_type": "code",
   "execution_count": null,
   "metadata": {},
   "outputs": [],
   "source": [
    "# Ignore me\n",
    "%load_ext autoreload"
   ]
  },
  {
   "cell_type": "code",
   "execution_count": null,
   "metadata": {},
   "outputs": [],
   "source": [
    "# Ignore me - im just an import block\n",
    "%autoreload 2\n",
    "\n",
    "from SlowFlowers import BadFlowerDrawer\n",
    "import matplotlib.pyplot as plt\n",
    "import random as rnd\n",
    "import time\n",
    "import cProfile\n",
    "import subprocess\n",
    "from IPython.display import Image\n",
    "import importlib"
   ]
  },
  {
   "cell_type": "markdown",
   "metadata": {},
   "source": [
    "## Lets use my super special algorithm to plot a flower\n",
    "Using the computation we developed in the lab document, we can see the implementation in the following graphic!\n",
    "The code for this is present in `SlowFlowers.py`."
   ]
  },
  {
   "cell_type": "code",
   "execution_count": null,
   "metadata": {
    "scrolled": true
   },
   "outputs": [],
   "source": [
    "bad_flower_instance = BadFlowerDrawer()\n",
    "x, y = zip(*bad_flower_instance.draw_one_flower(1))\n",
    "\n",
    "plt.figure(figsize=(5,5))\n",
    "plt.fill(x,y, edgecolor='black', facecolor='gold')\n",
    "plt.show()"
   ]
  },
  {
   "cell_type": "markdown",
   "metadata": {},
   "source": [
    "Here is a simplified version of the flower with some of the points used to generate the flower's outline. "
   ]
  },
  {
   "cell_type": "code",
   "execution_count": null,
   "metadata": {},
   "outputs": [],
   "source": [
    "smallx = x[::50]\n",
    "smally = y[::50]\n",
    "\n",
    "plt.figure(figsize=(5,5))\n",
    "plt.scatter(smallx,smally, color='red',)\n",
    "plt.fill(smallx,smally, edgecolor='black', facecolor='gold')\n",
    "plt.show()"
   ]
  },
  {
   "cell_type": "markdown",
   "metadata": {},
   "source": [
    "## Lets plot even more fun flowers\n",
    "I have also added a feature to plot as many flowers as you wish! All you have to do is supply a list of tuples containing the center point and size of the flower you would like to draw, and my algorithm will take care of the rest."
   ]
  },
  {
   "cell_type": "code",
   "execution_count": null,
   "metadata": {},
   "outputs": [],
   "source": [
    "inputs = [(19, 21, 2), (15, 11, 3), (19, 4, 2), (7, 20, 2), (5, 6, 1)]\n",
    "print(inputs)"
   ]
  },
  {
   "cell_type": "code",
   "execution_count": null,
   "metadata": {},
   "outputs": [],
   "source": [
    "\n",
    "start = time.perf_counter()\n",
    "flowers = bad_flower_instance.draw_many_flower(inputs)\n",
    "stop = time.perf_counter()\n",
    "good_flowers = flowers\n",
    "\n",
    "plt.figure(figsize=(6,6))\n",
    "plt.xlim(0, 30)\n",
    "plt.ylim(0, 30)\n",
    "for t in flowers:\n",
    "    x, y = zip(*t)\n",
    "    plt.fill(x, y, edgecolor='black')\n",
    "\n",
    "plt.show()\n",
    "\n",
    "print(f\"Total Time to compute 5 flowers: {stop-start:.2f} seconds\")"
   ]
  },
  {
   "cell_type": "markdown",
   "metadata": {},
   "source": [
    "## And it only took 85 seconds to draw all of those flowers...\n",
    "Huh, thats not as fast as I had hoped... Maybe we can do some profiling to figure out where I am losing all of this time..."
   ]
  },
  {
   "cell_type": "code",
   "execution_count": null,
   "metadata": {},
   "outputs": [],
   "source": [
    "# This cell takes some time to run... try not to run it if you don't want to wait for ever. \n",
    "# For me it took 4 minutes, you can safley skip it.\n",
    "cProfile.run('bad_flower_instance.draw_many_flower(inputs)')"
   ]
  },
  {
   "cell_type": "markdown",
   "metadata": {},
   "source": [
    "## While this is useful info, Its quite dense to read - lets make it a graphical view"
   ]
  },
  {
   "cell_type": "code",
   "execution_count": null,
   "metadata": {},
   "outputs": [],
   "source": [
    "# Same with this cell, it takes some time, and is only necessary to generate the \n",
    "# profiling analysis. - You can re run it with your flowers if you change the commands in the cProfile call!\n",
    "cProfile.run('bad_flower_instance.draw_many_flower(inputs)', 'flowers.pstats')\n",
    "subprocess.call(['python3', 'gprof2dot.py', '-f', 'pstats', './flowers.pstats', '-o', 'flowers.dot' ])\n",
    "subprocess.call(['dot', '-Tpng', '-o', 'flowers.png', 'flowers.dot' ])\n",
    "Image('flowers.png')"
   ]
  },
  {
   "cell_type": "markdown",
   "metadata": {},
   "source": [
    "# Why is my code so bad???\n",
    "## This is your asignment sandbox location\n",
    "\n",
    "In the next cells is setup a place to test your updated flower code.\n",
    "\n",
    "- Help me fix my slow flower class, and make it faster. \n",
    "- You can run it here, and see if the circles are the same.\n",
    "\n",
    "**If the circles are not the same here, they will not be the same on the autograder, So be sure to test them here first!**"
   ]
  },
  {
   "cell_type": "code",
   "execution_count": null,
   "metadata": {},
   "outputs": [],
   "source": [
    "def flowers_are_same(good_flowers,suspicious_flowers):   \n",
    "    x=len(good_flowers)\n",
    "    if(len(suspicious_flowers)!=x):\n",
    "       return False\n",
    "    for i in range(x):\n",
    "        y = len(good_flowers[i])\n",
    "        if(len(suspicious_flowers[i])!=y):\n",
    "            return False\n",
    "        for j in range(y):\n",
    "            if(round(good_flowers[i][j][0],9)!=round(suspicious_flowers[i][j][0],9) and round(good_flowers[i][j][1],9)!=round(suspicious_flowers[i][j][1],9)):\n",
    "                return False\n",
    "    return True"
   ]
  },
  {
   "cell_type": "code",
   "execution_count": null,
   "metadata": {},
   "outputs": [],
   "source": [
    "\n",
    "import FastFlowers\n",
    "importlib.reload(FastFlowers)\n",
    "fast_flower_instance = FastFlowers.FastFlowerDrawer()\n",
    "\n",
    "\n",
    "start = time.perf_counter()\n",
    "fast_flowers = fast_flower_instance.draw_many_flower(inputs)\n",
    "stop = time.perf_counter()\n",
    "\n",
    "plt.figure(figsize=(6,6))\n",
    "plt.xlim(0, 30)\n",
    "plt.ylim(0, 30)\n",
    "\n",
    "for t in fast_flowers:\n",
    "    x, y = zip(*t)\n",
    "    plt.fill(x, y, edgecolor='black')\n",
    "\n",
    "plt.show()\n",
    "\n",
    "tot_time = stop-start\n",
    "print(f\"Total Time to compute 5 flowers: {tot_time:.2f} seconds\")\n",
    "\n",
    "same = flowers_are_same(good_flowers, fast_flowers)\n",
    "print(f\"The flowers {'ARE' if same else 'ARE NOT'} the same!\")"
   ]
  },
  {
   "cell_type": "markdown",
   "metadata": {},
   "source": [
    "# When the flowers are not the same it will look like this"
   ]
  },
  {
   "cell_type": "code",
   "execution_count": null,
   "metadata": {},
   "outputs": [],
   "source": [
    "from NotReallyFlowers import NotReallyAFlowerDrawer\n",
    "\n",
    "not_flower_instance = NotReallyAFlowerDrawer()\n",
    "\n",
    "\n",
    "start = time.perf_counter()\n",
    "not_flowers = not_flower_instance.draw_many_flower(inputs)\n",
    "stop = time.perf_counter()\n",
    "\n",
    "plt.figure(figsize=(6,6))\n",
    "plt.xlim(0, 30)\n",
    "plt.ylim(0, 30)\n",
    "\n",
    "for t in not_flowers:\n",
    "    x, y = zip(*t)\n",
    "    plt.fill(x, y, edgecolor='black')\n",
    "\n",
    "plt.show()\n",
    "\n",
    "tot_time = stop-start\n",
    "print(f\"Total Time to compute 5 flowers: {tot_time:.2f} seconds\")\n",
    "\n",
    "same = flowers_are_same(good_flowers, not_flowers)\n",
    "print(f\"The flowers {'ARE' if same else 'ARE NOT'} the same!\")"
   ]
  },
  {
   "cell_type": "markdown",
   "metadata": {},
   "source": [
    "# Your Assignment\n",
    "\n",
    "1. Make `FastFlowers.py` *actually* fast\n",
    "2. Test your faster code with the above testing structure\n",
    "3. **Ensure** that your flowers match the original flowers for points!"
   ]
  }
 ],
 "metadata": {
  "kernelspec": {
   "display_name": "Python 3 (ipykernel)",
   "language": "python",
   "name": "python3"
  },
  "language_info": {
   "codemirror_mode": {
    "name": "ipython",
    "version": 3
   },
   "file_extension": ".py",
   "mimetype": "text/x-python",
   "name": "python",
   "nbconvert_exporter": "python",
   "pygments_lexer": "ipython3",
   "version": "3.9.6"
  }
 },
 "nbformat": 4,
 "nbformat_minor": 2
}
